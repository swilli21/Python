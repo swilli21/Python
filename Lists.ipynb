{
 "cells": [
  {
   "cell_type": "code",
   "execution_count": 1,
   "metadata": {},
   "outputs": [],
   "source": [
    "cars = ['Honda', 'Toyota', 'Tesla', 'Subaru', 'Volkswagen']"
   ]
  },
  {
   "cell_type": "code",
   "execution_count": 2,
   "metadata": {},
   "outputs": [
    {
     "data": {
      "text/plain": [
       "list"
      ]
     },
     "execution_count": 2,
     "metadata": {},
     "output_type": "execute_result"
    }
   ],
   "source": [
    "type(cars)"
   ]
  },
  {
   "cell_type": "code",
   "execution_count": 3,
   "metadata": {},
   "outputs": [
    {
     "name": "stdout",
     "output_type": "stream",
     "text": [
      "Honda\n"
     ]
    }
   ],
   "source": [
    "print(cars[0])"
   ]
  },
  {
   "cell_type": "code",
   "execution_count": 4,
   "metadata": {},
   "outputs": [
    {
     "data": {
      "text/plain": [
       "5"
      ]
     },
     "execution_count": 4,
     "metadata": {},
     "output_type": "execute_result"
    }
   ],
   "source": [
    "#number of elements in the list\n",
    "len(cars)"
   ]
  },
  {
   "cell_type": "code",
   "execution_count": 5,
   "metadata": {},
   "outputs": [
    {
     "name": "stdout",
     "output_type": "stream",
     "text": [
      "Volkswagen\n"
     ]
    }
   ],
   "source": [
    "#Last element in the list\n",
    "print(cars[-1])"
   ]
  },
  {
   "cell_type": "code",
   "execution_count": 6,
   "metadata": {},
   "outputs": [
    {
     "name": "stdout",
     "output_type": "stream",
     "text": [
      "['Honda', 'Toyota', 'Tesla', 'Hyundai', 'Volkswagen']\n"
     ]
    }
   ],
   "source": [
    "#Update elements in a list \n",
    "cars[3] = 'Hyundai'\n",
    "print(cars)"
   ]
  },
  {
   "cell_type": "code",
   "execution_count": 9,
   "metadata": {},
   "outputs": [
    {
     "data": {
      "text/plain": [
       "['Honda', 'Toyota', 'Tesla', 'Hyundai', 'Volkswagen', 'Maserati', 'Maserati']"
      ]
     },
     "execution_count": 9,
     "metadata": {},
     "output_type": "execute_result"
    }
   ],
   "source": [
    "#Add elements at the end of the list: note you can only append on element at a time\n",
    "cars.append('Maserati')\n",
    "cars"
   ]
  },
  {
   "cell_type": "code",
   "execution_count": 10,
   "metadata": {},
   "outputs": [
    {
     "data": {
      "text/plain": [
       "['Honda',\n",
       " 'Toyota',\n",
       " 'Nissan',\n",
       " 'Tesla',\n",
       " 'Hyundai',\n",
       " 'Volkswagen',\n",
       " 'Maserati',\n",
       " 'Maserati']"
      ]
     },
     "execution_count": 10,
     "metadata": {},
     "output_type": "execute_result"
    }
   ],
   "source": [
    "#Add an element at a specified postion in the list\n",
    "cars.insert(2, 'Nissan')\n",
    "cars"
   ]
  },
  {
   "cell_type": "code",
   "execution_count": 12,
   "metadata": {},
   "outputs": [
    {
     "data": {
      "text/plain": [
       "['Honda',\n",
       " 'Toyota',\n",
       " 'Nissan',\n",
       " 'Tesla',\n",
       " 'Hyundai',\n",
       " 'Volkswagen',\n",
       " 'Maserati',\n",
       " 'Maserati',\n",
       " 'Bugatti',\n",
       " 'Audi']"
      ]
     },
     "execution_count": 12,
     "metadata": {},
     "output_type": "execute_result"
    }
   ],
   "source": [
    "#Add multiple elements at the end of a list\n",
    "cars.extend(['Bugatti', 'Audi'])\n",
    "cars"
   ]
  },
  {
   "cell_type": "code",
   "execution_count": 13,
   "metadata": {},
   "outputs": [
    {
     "data": {
      "text/plain": [
       "['Honda',\n",
       " 'Toyota',\n",
       " 'Nissan',\n",
       " 'Tesla',\n",
       " 'Hyundai',\n",
       " 'Volkswagen',\n",
       " 'Maserati',\n",
       " 'Maserati',\n",
       " 'Bugatti',\n",
       " 'Audi',\n",
       " 'Porsche',\n",
       " 'Lexus',\n",
       " 'BMW']"
      ]
     },
     "execution_count": 13,
     "metadata": {},
     "output_type": "execute_result"
    }
   ],
   "source": [
    "#Concatenate list (adding two list together) adds the list to the end of the first list\n",
    "cars_2 = ['Porsche', 'Lexus', 'BMW' ]\n",
    "combine_list = cars + cars_2\n",
    "combine_list"
   ]
  },
  {
   "cell_type": "code",
   "execution_count": 14,
   "metadata": {},
   "outputs": [
    {
     "data": {
      "text/plain": [
       "3"
      ]
     },
     "execution_count": 14,
     "metadata": {},
     "output_type": "execute_result"
    }
   ],
   "source": [
    "#Find the index position for a particular element\n",
    "combine_list.index('Tesla')\n"
   ]
  },
  {
   "cell_type": "code",
   "execution_count": 15,
   "metadata": {},
   "outputs": [
    {
     "data": {
      "text/plain": [
       "['Honda',\n",
       " 'Toyota',\n",
       " 'Nissan',\n",
       " 'Tesla',\n",
       " 'Hyundai',\n",
       " 'Volkswagen',\n",
       " 'Maserati',\n",
       " 'Bugatti',\n",
       " 'Audi',\n",
       " 'Porsche',\n",
       " 'Lexus',\n",
       " 'BMW']"
      ]
     },
     "execution_count": 15,
     "metadata": {},
     "output_type": "execute_result"
    }
   ],
   "source": [
    "#Remove an element in the list note: remove does not get rid of all values of duplicates just the first instance\n",
    "combine_list.remove('Maserati')\n",
    "combine_list"
   ]
  },
  {
   "cell_type": "code",
   "execution_count": 18,
   "metadata": {},
   "outputs": [
    {
     "data": {
      "text/plain": [
       "['Honda',\n",
       " 'Toyota',\n",
       " 'Nissan',\n",
       " 'Tesla',\n",
       " 'Hyundai',\n",
       " 'Volkswagen',\n",
       " 'Maserati',\n",
       " 'Maserati',\n",
       " 'Bugatti',\n",
       " 'Audi',\n",
       " 'Hummer',\n",
       " 'Fiat',\n",
       " 'Hummer',\n",
       " 'Fiat']"
      ]
     },
     "execution_count": 18,
     "metadata": {},
     "output_type": "execute_result"
    }
   ],
   "source": [
    "#Using math operators to add elements to a list directly adding those elements to the end of the list\n",
    "cars += ['Hummer', 'Fiat']\n",
    "cars"
   ]
  },
  {
   "cell_type": "code",
   "execution_count": 20,
   "metadata": {},
   "outputs": [
    {
     "data": {
      "text/plain": [
       "['Audi',\n",
       " 'Bugatti',\n",
       " 'Fiat',\n",
       " 'Fiat',\n",
       " 'Honda',\n",
       " 'Hummer',\n",
       " 'Hummer',\n",
       " 'Hyundai',\n",
       " 'Maserati',\n",
       " 'Maserati',\n",
       " 'Nissan',\n",
       " 'Tesla',\n",
       " 'Toyota',\n",
       " 'Volkswagen']"
      ]
     },
     "execution_count": 20,
     "metadata": {},
     "output_type": "execute_result"
    }
   ],
   "source": [
    "#In Alphabetically or ascending order by default\n",
    "cars.sort()\n",
    "cars"
   ]
  },
  {
   "cell_type": "code",
   "execution_count": 23,
   "metadata": {},
   "outputs": [
    {
     "data": {
      "text/plain": [
       "['BMW',\n",
       " 'Lexus',\n",
       " 'Porsche',\n",
       " 'Audi',\n",
       " 'Bugatti',\n",
       " 'Maserati',\n",
       " 'Volkswagen',\n",
       " 'Hyundai',\n",
       " 'Tesla',\n",
       " 'Nissan',\n",
       " 'Toyota',\n",
       " 'Honda']"
      ]
     },
     "execution_count": 23,
     "metadata": {},
     "output_type": "execute_result"
    }
   ],
   "source": [
    "#Reverse the order of elements in the list\n",
    "combine_list.reverse()\n",
    "combine_list"
   ]
  },
  {
   "cell_type": "code",
   "execution_count": 24,
   "metadata": {},
   "outputs": [
    {
     "data": {
      "text/plain": [
       "['BMW',\n",
       " 'Lexus',\n",
       " 'Porsche',\n",
       " 'Audi',\n",
       " 'Bugatti',\n",
       " 'Maserati',\n",
       " 'Volkswagen',\n",
       " 'Hyundai',\n",
       " 'Tesla',\n",
       " 'Nissan',\n",
       " 'Toyota']"
      ]
     },
     "execution_count": 24,
     "metadata": {},
     "output_type": "execute_result"
    }
   ],
   "source": [
    "#Remove the last element in the list by default\n",
    "combine_list.pop()\n",
    "combine_list"
   ]
  },
  {
   "cell_type": "code",
   "execution_count": 25,
   "metadata": {},
   "outputs": [
    {
     "data": {
      "text/plain": [
       "2"
      ]
     },
     "execution_count": 25,
     "metadata": {},
     "output_type": "execute_result"
    }
   ],
   "source": [
    "#Count the amount of times an element occurs in our list\n",
    "cars.count('Maserati')"
   ]
  },
  {
   "cell_type": "code",
   "execution_count": 26,
   "metadata": {},
   "outputs": [
    {
     "data": {
      "text/plain": [
       "['Audi',\n",
       " 'Bugatti',\n",
       " 'Fiat',\n",
       " 'Fiat',\n",
       " 'Honda',\n",
       " 'Hummer',\n",
       " 'Hummer',\n",
       " 'Hyundai',\n",
       " 'Maserati',\n",
       " 'Maserati',\n",
       " 'Nissan',\n",
       " 'Tesla',\n",
       " 'Toyota',\n",
       " 'Volkswagen']"
      ]
     },
     "execution_count": 26,
     "metadata": {},
     "output_type": "execute_result"
    }
   ],
   "source": [
    "cars"
   ]
  },
  {
   "cell_type": "code",
   "execution_count": 27,
   "metadata": {},
   "outputs": [
    {
     "data": {
      "text/plain": [
       "{'Audi',\n",
       " 'Bugatti',\n",
       " 'Fiat',\n",
       " 'Honda',\n",
       " 'Hummer',\n",
       " 'Hyundai',\n",
       " 'Maserati',\n",
       " 'Nissan',\n",
       " 'Tesla',\n",
       " 'Toyota',\n",
       " 'Volkswagen'}"
      ]
     },
     "execution_count": 27,
     "metadata": {},
     "output_type": "execute_result"
    }
   ],
   "source": [
    "#Remove duplicates from a list of elements\n",
    "set(cars)"
   ]
  },
  {
   "cell_type": "code",
   "execution_count": 28,
   "metadata": {},
   "outputs": [
    {
     "data": {
      "text/plain": [
       "['Audi',\n",
       " 'Bugatti',\n",
       " 'Fiat',\n",
       " 'Fiat',\n",
       " 'Honda',\n",
       " 'Hummer',\n",
       " 'Hummer',\n",
       " 'Hyundai',\n",
       " 'Maserati',\n",
       " 'Maserati',\n",
       " 'Nissan',\n",
       " 'Tesla',\n",
       " 'Toyota',\n",
       " 'Volkswagen']"
      ]
     },
     "execution_count": 28,
     "metadata": {},
     "output_type": "execute_result"
    }
   ],
   "source": [
    "#Performing set on the list of items do not change the data type\n",
    "cars"
   ]
  },
  {
   "cell_type": "code",
   "execution_count": 30,
   "metadata": {},
   "outputs": [
    {
     "data": {
      "text/plain": [
       "[]"
      ]
     },
     "execution_count": 30,
     "metadata": {},
     "output_type": "execute_result"
    }
   ],
   "source": [
    "#Remove all elements in a list\n",
    "cars.clear()\n",
    "cars"
   ]
  },
  {
   "cell_type": "code",
   "execution_count": 31,
   "metadata": {},
   "outputs": [
    {
     "data": {
      "text/plain": [
       "['BMW',\n",
       " 'Lexus',\n",
       " 'Porsche',\n",
       " 'Audi',\n",
       " 'Bugatti',\n",
       " 'Maserati',\n",
       " 'Volkswagen',\n",
       " 'Hyundai',\n",
       " 'Tesla',\n",
       " 'Nissan',\n",
       " 'Toyota']"
      ]
     },
     "execution_count": 31,
     "metadata": {},
     "output_type": "execute_result"
    }
   ],
   "source": [
    "#Create a DEEP copy of the list i.e if you remove the original list cars will still contain the copy of elements\n",
    "cars = combine_list.copy()\n",
    "cars"
   ]
  },
  {
   "cell_type": "code",
   "execution_count": 33,
   "metadata": {},
   "outputs": [],
   "source": [
    "#Delete a decalred variable from memory\n",
    "del combine_list"
   ]
  },
  {
   "cell_type": "code",
   "execution_count": 34,
   "metadata": {},
   "outputs": [
    {
     "ename": "NameError",
     "evalue": "name 'combine_list' is not defined",
     "output_type": "error",
     "traceback": [
      "\u001b[1;31m---------------------------------------------------------------------------\u001b[0m",
      "\u001b[1;31mNameError\u001b[0m                                 Traceback (most recent call last)",
      "\u001b[1;32m<ipython-input-34-d6867231518d>\u001b[0m in \u001b[0;36m<module>\u001b[1;34m\u001b[0m\n\u001b[1;32m----> 1\u001b[1;33m \u001b[0mcombine_list\u001b[0m\u001b[1;33m\u001b[0m\u001b[1;33m\u001b[0m\u001b[0m\n\u001b[0m",
      "\u001b[1;31mNameError\u001b[0m: name 'combine_list' is not defined"
     ]
    }
   ],
   "source": [
    "combine_list"
   ]
  },
  {
   "cell_type": "code",
   "execution_count": 36,
   "metadata": {},
   "outputs": [
    {
     "data": {
      "text/plain": [
       "['BMW',\n",
       " 'Lexus',\n",
       " 'Porsche',\n",
       " 'Audi',\n",
       " 'Bugatti',\n",
       " 'Maserati',\n",
       " 'Volkswagen',\n",
       " 'Hyundai',\n",
       " 'Tesla',\n",
       " 'Nissan',\n",
       " 'Toyota']"
      ]
     },
     "execution_count": 36,
     "metadata": {},
     "output_type": "execute_result"
    }
   ],
   "source": [
    "#Results of a deep copy after removing combine_list from memory\n",
    "cars"
   ]
  },
  {
   "cell_type": "code",
   "execution_count": 39,
   "metadata": {},
   "outputs": [
    {
     "data": {
      "text/plain": [
       "['BMW',\n",
       " 'Lexus',\n",
       " 'Porsche',\n",
       " 'Audi',\n",
       " 'Bugatti',\n",
       " 'Maserati',\n",
       " 'Volkswagen',\n",
       " 'Hyundai',\n",
       " 'Tesla',\n",
       " 'Nissan',\n",
       " 'Toyota']"
      ]
     },
     "execution_count": 39,
     "metadata": {},
     "output_type": "execute_result"
    }
   ],
   "source": [
    "#Create a shallow list they both refer to the same list\n",
    "new_car_list = cars\n",
    "new_car_list"
   ]
  },
  {
   "cell_type": "code",
   "execution_count": 40,
   "metadata": {},
   "outputs": [
    {
     "data": {
      "text/plain": [
       "['BMW',\n",
       " 'Lexus',\n",
       " 'Porsche',\n",
       " 'Audi',\n",
       " 'Bugatti',\n",
       " 'Maserati',\n",
       " 'Hyundai',\n",
       " 'Tesla',\n",
       " 'Nissan',\n",
       " 'Toyota']"
      ]
     },
     "execution_count": 40,
     "metadata": {},
     "output_type": "execute_result"
    }
   ],
   "source": [
    "new_car_list.remove('Volkswagen')\n",
    "new_car_list"
   ]
  },
  {
   "cell_type": "code",
   "execution_count": 41,
   "metadata": {},
   "outputs": [
    {
     "data": {
      "text/plain": [
       "['BMW',\n",
       " 'Lexus',\n",
       " 'Porsche',\n",
       " 'Audi',\n",
       " 'Bugatti',\n",
       " 'Maserati',\n",
       " 'Hyundai',\n",
       " 'Tesla',\n",
       " 'Nissan',\n",
       " 'Toyota']"
      ]
     },
     "execution_count": 41,
     "metadata": {},
     "output_type": "execute_result"
    }
   ],
   "source": [
    "#Note: Volkswagen is removed from both lists automatically even though it was performed on one\n",
    "cars"
   ]
  },
  {
   "cell_type": "code",
   "execution_count": null,
   "metadata": {},
   "outputs": [],
   "source": []
  }
 ],
 "metadata": {
  "kernelspec": {
   "display_name": "Python 3",
   "language": "python",
   "name": "python3"
  },
  "language_info": {
   "codemirror_mode": {
    "name": "ipython",
    "version": 3
   },
   "file_extension": ".py",
   "mimetype": "text/x-python",
   "name": "python",
   "nbconvert_exporter": "python",
   "pygments_lexer": "ipython3",
   "version": "3.8.5"
  }
 },
 "nbformat": 4,
 "nbformat_minor": 4
}
